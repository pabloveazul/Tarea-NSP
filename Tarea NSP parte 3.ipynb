{
 "cells": [
  {
   "cell_type": "markdown",
   "metadata": {},
   "source": [
    "# Parte 3"
   ]
  },
  {
   "cell_type": "markdown",
   "metadata": {},
   "source": [
    "## Regresión Logística:\n",
    "\n",
    "La regresión logística es un modelo de clasificación binaria basado en la función logistica para predecir la probabilidad de un evento para de partenecer a alguna clase. La función logística está dada por:\n",
    "\n",
    "%%latex\n",
    "\n",
    "\\begin{equation*}\n",
    "\\begin{aligned}\n",
    "& & g(z) = \\frac{1}{1+e^{-z}} \\\\\n",
    "\\end{aligned}\n",
    "\\end{equation*}"
   ]
  },
  {
   "cell_type": "markdown",
   "metadata": {},
   "source": [
    "La probabilidad de pertenecer a la clase positiva queda dada entonces por:\n",
    "\n",
    "\n",
    "%%latex\n",
    "\\begin{equation*}\n",
    "\\begin{aligned}\n",
    "\\mathbb{P}(\\text{event x is positive}) = g(\\beta^{\\intercal}x) = \\frac{1}{1+e^{-\\beta^{\\intercal}x}}\n",
    "\\end{aligned}\n",
    "\\end{equation*}"
   ]
  },
  {
   "cell_type": "markdown",
   "metadata": {},
   "source": [
    "Donde el la variable beta representa el vector de parámetros que multiplican a cada variable, los cuales son ajustados para minimizar una función de pérdida. En este caso se usará la función de Cross-Entropy, definida como:\n",
    "\n",
    "\n",
    "%%latex\n",
    "\n",
    "\\begin{equation*}\n",
    "\\begin{aligned}\n",
    "\\frac{1}{N} \\sum_{i=1}^{N} \\big(y_{i}log(\\hat{y})+(1-y_{i})log(1-\\hat{y}) \\big)\n",
    "\\end{aligned}\n",
    "\\end{equation*}\n"
   ]
  },
  {
   "cell_type": "markdown",
   "metadata": {},
   "source": [
    "La optimización de los parámetros para minimizar la función de pérdida será luego realizada mediante el método de Gradient Descent"
   ]
  },
  {
   "cell_type": "code",
   "execution_count": 125,
   "metadata": {},
   "outputs": [],
   "source": [
    "import pandas as pd\n",
    "import seaborn as sns\n",
    "import numpy as np\n",
    "import matplotlib.pyplot as plt\n",
    "import time\n",
    "import sklearn\n",
    "%matplotlib inline "
   ]
  },
  {
   "cell_type": "code",
   "execution_count": 90,
   "metadata": {},
   "outputs": [],
   "source": [
    "#Importar la base de datos\n",
    "local_path = r'/Users/pablouribepizarro/Desktop/Analisis de Datos/Tarea_1/'\n",
    "datos = pd.read_csv(local_path + 'data_new_features_clean.csv',index_col =0)"
   ]
  },
  {
   "cell_type": "code",
   "execution_count": 91,
   "metadata": {},
   "outputs": [],
   "source": [
    "#Cambiar el formato de las fechas a datetime\n",
    "\n",
    "datos['FechaNac'] = pd.to_datetime(datos['FechaNac'])\n",
    "datos['FechaReserva'] = pd.to_datetime(datos['FechaReserva'])\n",
    "datos['FechaCita'] = pd.to_datetime(datos['FechaCita'])\n",
    "datos = datos.sort_values('FechaCita')"
   ]
  },
  {
   "cell_type": "code",
   "execution_count": 96,
   "metadata": {},
   "outputs": [],
   "source": [
    "#Transformar el problema en uno de clasificación binaria:\n",
    "def binario(estadocita):\n",
    "    if (estadocita =='Cancelado') or (estadocita =='No Atendido'):\n",
    "        return('Cita No Realizada')\n",
    "    elif (estadocita =='Atendido'):\n",
    "        return('Cita Realizada')\n",
    "    else:\n",
    "        return(estadocita)\n",
    "#Modificación de la columna:\n",
    "datos['EstadoCita'] = datos.apply(lambda row: binario(row['EstadoCita']),axis=1)"
   ]
  },
  {
   "cell_type": "code",
   "execution_count": 99,
   "metadata": {},
   "outputs": [],
   "source": [
    "#Creación de una muestra balanceada:\n",
    "datos_neg = datos.loc[datos['EstadoCita'] == 'Cita No Realizada'].copy()\n",
    "datos_pos = datos.loc[datos['EstadoCita'] == 'Cita Realizada'].copy()\n",
    "\n",
    "num = min(datos_neg.shape[0],datos_pos.shape[0])\n",
    "pos_sample = datos_neg.sample(num)\n",
    "neg_sample = datos_pos.sample(num)\n",
    "\n",
    "\n",
    "balanced_sample = pd.concat([pos_sample,neg_sample]).sample(frac=1)"
   ]
  },
  {
   "cell_type": "code",
   "execution_count": 102,
   "metadata": {},
   "outputs": [],
   "source": [
    "#Encoder String a Numérico\n",
    "from sklearn import preprocessing\n",
    "le = preprocessing.LabelEncoder()\n",
    "\n",
    "\n",
    "column_list = [] #str columns\n",
    "for column in datos.columns:\n",
    "    if balanced_sample[column].dtype == 'O':\n",
    "        column_list.append(column)\n",
    "\n",
    "datos_num = balanced_sample[column_list].astype(str).apply(le.fit_transform)\n",
    "for column in balanced_sample.columns:\n",
    "    if balanced_sample[column].dtype != 'O':\n",
    "        datos_num[column] = balanced_sample[column]"
   ]
  },
  {
   "cell_type": "code",
   "execution_count": 103,
   "metadata": {},
   "outputs": [],
   "source": [
    "#Estandarización de los Datos\n",
    "from sklearn import preprocessing\n",
    "stand_data = preprocessing.StandardScaler().fit_transform(datos_num.drop(\n",
    "                                                ['FechaNac','FechaCita','FechaReserva','EstadoCita'],axis=1))\n",
    "stand_data = pd.DataFrame(stand_data)\n",
    "stand_data.columns = datos_num.drop(\n",
    "                                        ['FechaNac','FechaCita','FechaReserva','EstadoCita'],axis=1).columns.values\n",
    "stand_data= stand_data.set_index(datos_num.index.values)\n",
    "stand_data['EstadoCita'] = datos_num['EstadoCita']"
   ]
  },
  {
   "cell_type": "markdown",
   "metadata": {},
   "source": [
    "## Implementación de la Regresión Logística\n",
    "\n",
    "En esta seccióin se mostrará la implementación de la regresión logística en forma de clase."
   ]
  },
  {
   "cell_type": "code",
   "execution_count": 111,
   "metadata": {},
   "outputs": [],
   "source": [
    "class RegresionLogistica:\n",
    "    #Inicialización de la clase\n",
    "    def __init__(self, step_size=0.01, n_iteraciones=10000, fit_intercept = True):\n",
    "        self.step_size = step_size\n",
    "        self.n_iter = n_iteraciones\n",
    "        self.n_interaciones = 10000\n",
    "        self.fit_intercept = fit_intercept\n",
    "        \n",
    "    def __add_intercept(self,X):\n",
    "        intercept = np.ones((X.shape[0],1))\n",
    "        return(np.concatenate(intercept,X,axis =1))\n",
    "    \n",
    "    #Definición de la Función Sigmoid:\n",
    "    def __sigmoid(self,z):\n",
    "        return(1/(1+np.exp(-z)))\n",
    "    \n",
    "    #Definición de la función de pérdida: Cross-Entropy\n",
    "    def __crossentropyloss(h,y):\n",
    "        return(-y*np.log(h)-(1-y)*np.log(1-h)).mean()\n",
    "    #función fit: optimización de los parámetros theta usando GD\n",
    "    def fit(self, X, y):\n",
    "        #Inicialización de los parámetros (0 para cada componente):\n",
    "        self.theta = np.zeros(X.shape[1])\n",
    "        #Gradient Descent\n",
    "        for i in range(self.n_iter):\n",
    "            z = np.dot(X, self.theta) #Producto punto entre variables y parámetros\n",
    "            h = self.__sigmoid(z) #Evaluación de la predicción con los parámetros\n",
    "            gradient = np.dot(X.T,(h-y))/y.size #cálculo del gradiente\n",
    "            self.theta -=self.step_size*gradient #Actualización de los parámetros con GD y el step size  \n",
    "    \n",
    "    #Funcion de predicción en probabilidad:\n",
    "    def pred_probabilidad(self,X):\n",
    "        return(self.__sigmoid(np.dot(X,self.theta)))\n",
    "    \n",
    "    #Función de predicción por sobre 0.5\n",
    "    def pred(self, X):\n",
    "        return ([self.pred_probabilidad(X) >=0.5][0])\n",
    "\n",
    "            \n",
    "            \n",
    "    "
   ]
  },
  {
   "cell_type": "code",
   "execution_count": 113,
   "metadata": {},
   "outputs": [],
   "source": [
    "#Creación de una muestra de entrenamiento y validación:\n",
    "msk = np.random.rand(len(stand_data)) < 0.5\n",
    "train = stand_data[msk]\n",
    "test = stand_data[~msk]"
   ]
  },
  {
   "cell_type": "code",
   "execution_count": 119,
   "metadata": {},
   "outputs": [],
   "source": [
    "def print_confusion_matrix(confusion_matrix, class_names, figsize = (7,5), fontsize=10):\n",
    "    \"\"\"Prints a confusion matrix, as returned by sklearn.metrics.confusion_matrix, as a heatmap.\n",
    "    \n",
    "    Arguments\n",
    "    ---------\n",
    "    confusion_matrix: numpy.ndarray\n",
    "        The numpy.ndarray object returned from a call to sklearn.metrics.confusion_matrix. \n",
    "        Similarly constructed ndarrays can also be used.\n",
    "    class_names: list\n",
    "        An ordered list of class names, in the order they index the given confusion matrix.\n",
    "    figsize: tuple\n",
    "        A 2-long tuple, the first value determining the horizontal size of the ouputted figure,\n",
    "        the second determining the vertical size. Defaults to (10,7).\n",
    "    fontsize: int\n",
    "        Font size for axes labels. Defaults to 14.\n",
    "        \n",
    "    Returns\n",
    "    -------\n",
    "    matplotlib.figure.Figure\n",
    "        The resulting confusion matrix figure\n",
    "    \"\"\"\n",
    "    df_cm = pd.DataFrame(\n",
    "        confusion_matrix, index=class_names, columns=class_names, \n",
    "    )\n",
    "    fig = plt.figure(figsize=figsize)\n",
    "    try:\n",
    "        heatmap = sns.heatmap(df_cm, annot=True, fmt=\"d\",cmap=\"YlGnBu\")\n",
    "    except ValueError:\n",
    "        raise ValueError(\"Confusion matrix values must be integers.\")\n",
    "    heatmap.yaxis.set_ticklabels(heatmap.yaxis.get_ticklabels(), rotation=0, ha='right', fontsize=fontsize)\n",
    "    heatmap.xaxis.set_ticklabels(heatmap.xaxis.get_ticklabels(), rotation=45, ha='right', fontsize=fontsize)\n",
    "    plt.ylabel('True label')\n",
    "    plt.xlabel('Predicted label')\n",
    "    return fig"
   ]
  },
  {
   "cell_type": "code",
   "execution_count": 121,
   "metadata": {},
   "outputs": [
    {
     "name": "stdout",
     "output_type": "stream",
     "text": [
      "CPU times: user 37.6 s, sys: 973 ms, total: 38.5 s\n",
      "Wall time: 21.8 s\n"
     ]
    },
    {
     "data": {
      "text/plain": [
       "0.5411924060035392"
      ]
     },
     "execution_count": 121,
     "metadata": {},
     "output_type": "execute_result"
    }
   ],
   "source": [
    "#Entrenamiento del modelo: Variables Originales\n",
    "X_train = train[['Sexo', 'Comuna', 'Provincia', 'Region', 'Agenda', 'TipoProfesional',\n",
    "       'Especialidad', 'TipoAtencion', 'Prestacion']]\n",
    "y_train = train['EstadoCita']\n",
    "\n",
    "X_test = test[['Sexo', 'Comuna', 'Provincia', 'Region', 'Agenda', 'TipoProfesional',\n",
    "       'Especialidad', 'TipoAtencion', 'Prestacion']]\n",
    "y_test = test['EstadoCita']\n",
    "\n",
    "model = RegresionLogistica()\n",
    "%time model.fit(X_train, y_train)\n",
    "\n",
    "preds = model.pred(X_test)\n",
    "# accuracy\n",
    "(preds == y_test).mean()"
   ]
  },
  {
   "cell_type": "code",
   "execution_count": 122,
   "metadata": {},
   "outputs": [
    {
     "data": {
      "image/png": "[encoded data removed]",
      "text/plain": [
       "<Figure size 504x360 with 2 Axes>"
      ]
     },
     "metadata": {
      "needs_background": "light"
     },
     "output_type": "display_data"
    }
   ],
   "source": [
    "from sklearn.metrics import confusion_matrix\n",
    "class_numbers = test['EstadoCita'].unique()\n",
    "class_numbers.sort()\n",
    "class_names = le.inverse_transform(class_numbers)\n",
    "cm = confusion_matrix(test['EstadoCita'], preds)\n",
    "cm_fig = print_confusion_matrix(cm,class_names)"
   ]
  },
  {
   "cell_type": "code",
   "execution_count": 123,
   "metadata": {},
   "outputs": [
    {
     "name": "stdout",
     "output_type": "stream",
     "text": [
      "CPU times: user 50.5 s, sys: 915 ms, total: 51.4 s\n",
      "Wall time: 26.7 s\n"
     ]
    },
    {
     "data": {
      "text/plain": [
       "0.5912437463133288"
      ]
     },
     "execution_count": 123,
     "metadata": {},
     "output_type": "execute_result"
    }
   ],
   "source": [
    "#Entrenamiento del modelo: Variables Nuevas\n",
    "X_train = train[['Sexo', 'Comuna', 'Provincia', 'Region', 'Agenda', 'TipoProfesional',\n",
    "       'Especialidad', 'TipoAtencion','Especialidad', 'TipoAtencion', 'Prestacion','Edad',\n",
    "                   'DiasReservaCita','Reservas Anteriores','Cancelaciones Anteriores','Atenciones Anteriores','No Atenciones Anteriores',\n",
    "                   'Distancia', 'Dia Cita','Mes Cita']]\n",
    "y_train = train['EstadoCita']\n",
    "X_test = test[['Sexo', 'Comuna', 'Provincia', 'Region', 'Agenda', 'TipoProfesional',\n",
    "       'Especialidad', 'TipoAtencion','Especialidad', 'TipoAtencion', 'Prestacion','Edad',\n",
    "                   'DiasReservaCita','Reservas Anteriores','Cancelaciones Anteriores','Atenciones Anteriores','No Atenciones Anteriores',\n",
    "                   'Distancia', 'Dia Cita','Mes Cita']]\n",
    "y_test = test['EstadoCita']\n",
    "\n",
    "model = RegresionLogistica()\n",
    "%time model.fit(X_train, y_train)\n",
    "\n",
    "preds = model.pred(X_test)\n",
    "# accuracy\n",
    "(preds == y_test).mean()"
   ]
  },
  {
   "cell_type": "code",
   "execution_count": 124,
   "metadata": {},
   "outputs": [
    {
     "data": {
      "image/png": "[encoded data removed]",
      "text/plain": [
       "<Figure size 504x360 with 2 Axes>"
      ]
     },
     "metadata": {
      "needs_background": "light"
     },
     "output_type": "display_data"
    }
   ],
   "source": [
    "from sklearn.metrics import confusion_matrix\n",
    "class_numbers = test['EstadoCita'].unique()\n",
    "class_numbers.sort()\n",
    "class_names = le.inverse_t ransform(class_numbers)\n",
    "cm = confusion_matrix(test['EstadoCita'], preds)\n",
    "cm_fig = print_confusion_matrix(cm,class_names)"
   ]
  },
  {
   "cell_type": "code",
   "execution_count": null,
   "metadata": {},
   "outputs": [],
   "source": []
  }
 ],
 "metadata": {
  "kernelspec": {
   "display_name": "Python 3",
   "language": "python",
   "name": "python3"
  },
  "language_info": {
   "codemirror_mode": {
    "name": "ipython",
    "version": 3
   },
   "file_extension": ".py",
   "mimetype": "text/x-python",
   "name": "python",
   "nbconvert_exporter": "python",
   "pygments_lexer": "ipython3",
   "version": "3.7.3"
  }
 },
 "nbformat": 4,
 "nbformat_minor": 2
}
