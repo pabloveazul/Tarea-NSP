{
 "cells": [
  {
   "cell_type": "code",
   "execution_count": 70,
   "metadata": {},
   "outputs": [],
   "source": [
    "import pandas as pd\n",
    "import seaborn as sns\n",
    "import numpy as np\n",
    "import matplotlib.pyplot as plt\n",
    "%matplotlib inline "
   ]
  },
  {
   "cell_type": "code",
   "execution_count": 71,
   "metadata": {},
   "outputs": [],
   "source": [
    "#Import Data\n",
    "local_path = r'/Users/pablouribepizarro/Desktop/Analisis de Datos/Tarea_1/'\n",
    "datos = pd.read_csv(local_path + 'data_new_features_clean.csv',index_col =0)\n"
   ]
  },
  {
   "cell_type": "code",
   "execution_count": 72,
   "metadata": {},
   "outputs": [],
   "source": [
    "#Transform Data into Numerical:\n",
    "\n",
    "datos['FechaNac'] = pd.to_datetime(datos['FechaNac'])\n",
    "datos['FechaReserva'] = pd.to_datetime(datos['FechaReserva'])\n",
    "datos['FechaCita'] = pd.to_datetime(datos['FechaCita'])\n",
    "datos = datos.sort_values('FechaCita')"
   ]
  },
  {
   "cell_type": "code",
   "execution_count": 73,
   "metadata": {},
   "outputs": [
    {
     "data": {
      "text/plain": [
       "PAID                               float64\n",
       "FechaNac                    datetime64[ns]\n",
       "Sexo                                object\n",
       "Comuna                              object\n",
       "Provincia                           object\n",
       "Region                              object\n",
       "Agenda                              object\n",
       "TipoProfesional                     object\n",
       "Especialidad                        object\n",
       "TipoAtencion                        object\n",
       "CodPrestacion                      float64\n",
       "Prestacion                          object\n",
       "FechaReserva                datetime64[ns]\n",
       "FechaCita                   datetime64[ns]\n",
       "EstadoCita                          object\n",
       "Edad                               float64\n",
       "DiasReservaCita                      int64\n",
       "Dia Cita                             int64\n",
       "Distancia                            int64\n",
       "Reservas Anteriores                  int64\n",
       "Cancelaciones Anteriores             int64\n",
       "Atenciones Anteriores                int64\n",
       "No Atenciones Anteriores             int64\n",
       "dtype: object"
      ]
     },
     "execution_count": 73,
     "metadata": {},
     "output_type": "execute_result"
    }
   ],
   "source": [
    "datos.dtypes"
   ]
  },
  {
   "cell_type": "code",
   "execution_count": 74,
   "metadata": {},
   "outputs": [],
   "source": [
    "#Encode Data into Numerical\n",
    "from sklearn import preprocessing\n",
    "le = preprocessing.LabelEncoder()\n",
    "\n",
    "\n",
    "column_list = [] #str columns\n",
    "for column in datos.columns:\n",
    "    if datos[column].dtype == 'O':\n",
    "        column_list.append(column)\n",
    "\n",
    "datos_num = datos[column_list].astype(str).apply(le.fit_transform)\n",
    "for column in datos.columns:\n",
    "    if datos[column].dtype != 'O':\n",
    "        datos_num[column] = datos[column]"
   ]
  },
  {
   "cell_type": "code",
   "execution_count": 75,
   "metadata": {},
   "outputs": [
    {
     "data": {
      "text/plain": [
       "Sexo                                 int64\n",
       "Comuna                               int64\n",
       "Provincia                            int64\n",
       "Region                               int64\n",
       "Agenda                               int64\n",
       "TipoProfesional                      int64\n",
       "Especialidad                         int64\n",
       "TipoAtencion                         int64\n",
       "Prestacion                           int64\n",
       "EstadoCita                           int64\n",
       "PAID                               float64\n",
       "FechaNac                    datetime64[ns]\n",
       "CodPrestacion                      float64\n",
       "FechaReserva                datetime64[ns]\n",
       "FechaCita                   datetime64[ns]\n",
       "Edad                               float64\n",
       "DiasReservaCita                      int64\n",
       "Dia Cita                             int64\n",
       "Distancia                            int64\n",
       "Reservas Anteriores                  int64\n",
       "Cancelaciones Anteriores             int64\n",
       "Atenciones Anteriores                int64\n",
       "No Atenciones Anteriores             int64\n",
       "dtype: object"
      ]
     },
     "execution_count": 75,
     "metadata": {},
     "output_type": "execute_result"
    }
   ],
   "source": [
    "datos_num.dtypes"
   ]
  },
  {
   "cell_type": "code",
   "execution_count": 76,
   "metadata": {},
   "outputs": [],
   "source": [
    "#sns.pairplot(datos[['Sexo', 'TipoAtencion', 'Prestacion','Edad',\n",
    "                     #'DiasReservaCita','Reservas Anteriores','Cancelaciones Anteriores','Atenciones Anteriores','No Atenciones Anteriores',\n",
    "                    #'Distancia','Dia Cita','EstadoCita']], hue='EstadoCita')"
   ]
  },
  {
   "cell_type": "code",
   "execution_count": 77,
   "metadata": {},
   "outputs": [],
   "source": [
    "#Create Balanced Subset:\n",
    "datos_cancelaciones = datos.loc[datos['EstadoCita'] == 'Cancelado'].copy()\n",
    "datos_atenciones = datos.loc[datos['EstadoCita'] == 'Atendido'].copy()\n",
    "datos_noatenciones = datos.loc[datos['EstadoCita'] == 'No Atendido'].copy()\n",
    "\n",
    "num = min(datos_cancelaciones.shape[0],datos_atenciones.shape[0],datos_noatenciones.shape[0])\n",
    "cancelaciones_sample = datos_cancelaciones.sample(num)\n",
    "atenciones_sample = datos_atenciones.sample(num)\n",
    "noatenciones_sample = datos_noatenciones.sample(num)\n",
    "\n",
    "balanced_sample = pd.concat([cancelaciones_sample,atenciones_sample,noatenciones_sample]).sample(frac=1)"
   ]
  },
  {
   "cell_type": "code",
   "execution_count": 78,
   "metadata": {},
   "outputs": [],
   "source": [
    "#Encode Data into Numerical\n",
    "from sklearn import preprocessing\n",
    "le = preprocessing.LabelEncoder()\n",
    "\n",
    "\n",
    "column_list = [] #str columns\n",
    "for column in datos.columns:\n",
    "    if balanced_sample[column].dtype == 'O':\n",
    "        column_list.append(column)\n",
    "\n",
    "datos_num = balanced_sample[column_list].astype(str).apply(le.fit_transform)\n",
    "for column in balanced_sample.columns:\n",
    "    if balanced_sample[column].dtype != 'O':\n",
    "        datos_num[column] = balanced_sample[column]"
   ]
  },
  {
   "cell_type": "code",
   "execution_count": 79,
   "metadata": {},
   "outputs": [
    {
     "data": {
      "text/plain": [
       "PAID                               float64\n",
       "FechaNac                    datetime64[ns]\n",
       "Sexo                                object\n",
       "Comuna                              object\n",
       "Provincia                           object\n",
       "Region                              object\n",
       "Agenda                              object\n",
       "TipoProfesional                     object\n",
       "Especialidad                        object\n",
       "TipoAtencion                        object\n",
       "CodPrestacion                      float64\n",
       "Prestacion                          object\n",
       "FechaReserva                datetime64[ns]\n",
       "FechaCita                   datetime64[ns]\n",
       "EstadoCita                          object\n",
       "Edad                               float64\n",
       "DiasReservaCita                      int64\n",
       "Dia Cita                             int64\n",
       "Distancia                            int64\n",
       "Reservas Anteriores                  int64\n",
       "Cancelaciones Anteriores             int64\n",
       "Atenciones Anteriores                int64\n",
       "No Atenciones Anteriores             int64\n",
       "dtype: object"
      ]
     },
     "execution_count": 79,
     "metadata": {},
     "output_type": "execute_result"
    }
   ],
   "source": [
    "balanced_sample.dtypes"
   ]
  },
  {
   "cell_type": "code",
   "execution_count": 84,
   "metadata": {},
   "outputs": [],
   "source": [
    "#Standardize Data\n",
    "from sklearn import preprocessing\n",
    "stand_data = preprocessing.StandardScaler().fit_transform(datos_num.drop(\n",
    "                                                ['FechaNac','FechaCita','FechaReserva','EstadoCita'],axis=1))\n",
    "stand_data = pd.DataFrame(stand_data)\n",
    "stand_data.columns = datos_num.drop(\n",
    "                                        ['FechaNac','FechaCita','FechaReserva','EstadoCita'],axis=1).columns.values\n",
    "stand_data['EstadoCita'] = datos_num['EstadoCita']"
   ]
  },
  {
   "cell_type": "code",
   "execution_count": 85,
   "metadata": {},
   "outputs": [],
   "source": [
    "#Create Training set Sample and Validation set\n",
    "msk = np.random.rand(len(datos_num)) < 0.5\n",
    "train = datos_num[msk]\n",
    "test = datos_num[~msk]"
   ]
  },
  {
   "cell_type": "code",
   "execution_count": 86,
   "metadata": {},
   "outputs": [],
   "source": [
    "def print_confusion_matrix(confusion_matrix, class_names, figsize = (7,5), fontsize=10):\n",
    "    \"\"\"Prints a confusion matrix, as returned by sklearn.metrics.confusion_matrix, as a heatmap.\n",
    "    \n",
    "    Arguments\n",
    "    ---------\n",
    "    confusion_matrix: numpy.ndarray\n",
    "        The numpy.ndarray object returned from a call to sklearn.metrics.confusion_matrix. \n",
    "        Similarly constructed ndarrays can also be used.\n",
    "    class_names: list\n",
    "        An ordered list of class names, in the order they index the given confusion matrix.\n",
    "    figsize: tuple\n",
    "        A 2-long tuple, the first value determining the horizontal size of the ouputted figure,\n",
    "        the second determining the vertical size. Defaults to (10,7).\n",
    "    fontsize: int\n",
    "        Font size for axes labels. Defaults to 14.\n",
    "        \n",
    "    Returns\n",
    "    -------\n",
    "    matplotlib.figure.Figure\n",
    "        The resulting confusion matrix figure\n",
    "    \"\"\"\n",
    "    df_cm = pd.DataFrame(\n",
    "        confusion_matrix, index=class_names, columns=class_names, \n",
    "    )\n",
    "    fig = plt.figure(figsize=figsize)\n",
    "    try:\n",
    "        heatmap = sns.heatmap(df_cm, annot=True, fmt=\"d\",cmap=\"YlGnBu\")\n",
    "    except ValueError:\n",
    "        raise ValueError(\"Confusion matrix values must be integers.\")\n",
    "    heatmap.yaxis.set_ticklabels(heatmap.yaxis.get_ticklabels(), rotation=0, ha='right', fontsize=fontsize)\n",
    "    heatmap.xaxis.set_ticklabels(heatmap.xaxis.get_ticklabels(), rotation=45, ha='right', fontsize=fontsize)\n",
    "    plt.ylabel('True label')\n",
    "    plt.xlabel('Predicted label')\n",
    "    return fig"
   ]
  },
  {
   "cell_type": "code",
   "execution_count": 87,
   "metadata": {},
   "outputs": [
    {
     "name": "stdout",
     "output_type": "stream",
     "text": [
      "Score: 0.4196412393549556\n",
      "Feature Importances: [0.11050506 0.30881569 0.10320359 0.05013392 0.20060973 0.10569301\n",
      " 0.03392727 0.07244001 0.0146717 ]\n"
     ]
    },
    {
     "data": {
      "image/png": "[encoded data removed]",
      "text/plain": [
       "<Figure size 504x360 with 2 Axes>"
      ]
     },
     "metadata": {
      "needs_background": "light"
     },
     "output_type": "display_data"
    }
   ],
   "source": [
    "#Decision Tree Classifiers\n",
    "from sklearn.model_selection import cross_val_score\n",
    "from sklearn.tree import DecisionTreeClassifier\n",
    "from sklearn.metrics import confusion_matrix\n",
    "\n",
    "#Orginal Variables\n",
    "\n",
    "clf1 = DecisionTreeClassifier(random_state=0,criterion='entropy')\n",
    "clf1.fit(train[['Sexo', 'Comuna', 'Provincia', 'Region', 'Agenda', 'TipoProfesional',\n",
    "       'Especialidad', 'TipoAtencion', 'Prestacion']], train['EstadoCita'])\n",
    "score = clf1.score(test[['Sexo', 'Comuna', 'Provincia', 'Region', 'Agenda', 'TipoProfesional',\n",
    "       'Especialidad', 'TipoAtencion', 'Prestacion']], test['EstadoCita'])\n",
    "print('Score: '+str(score))\n",
    "print('Feature Importances: '+str(clf1.feature_importances_))\n",
    "\n",
    "#Confussion Matrix\n",
    "\n",
    "y_pred = clf1.predict(test[['Sexo', 'Comuna', 'Provincia', 'Region', 'Agenda', 'TipoProfesional',\n",
    "       'Especialidad', 'TipoAtencion', 'Prestacion']])\n",
    "class_numbers = test['EstadoCita'].unique()\n",
    "class_numbers.sort()\n",
    "class_names = le.inverse_transform(class_numbers)\n",
    "cm = confusion_matrix(test['EstadoCita'],y_pred)\n",
    "cm_fig = print_confusion_matrix(cm,class_names)"
   ]
  },
  {
   "cell_type": "code",
   "execution_count": 88,
   "metadata": {},
   "outputs": [
    {
     "name": "stdout",
     "output_type": "stream",
     "text": [
      "Score: 0.42033580962734796\n",
      "Feature Importance: [0.03591307 0.10949906 0.022556   0.01228203 0.03356995 0.01238778\n",
      " 0.00378918 0.02295383 0.00590818 0.30113519 0.18834277 0.05719892\n",
      " 0.04179657 0.05036002 0.02874389 0.00948904 0.06407453]\n"
     ]
    },
    {
     "data": {
      "image/png": "[encoded data removed]",
      "text/plain": [
       "<Figure size 504x360 with 2 Axes>"
      ]
     },
     "metadata": {
      "needs_background": "light"
     },
     "output_type": "display_data"
    }
   ],
   "source": [
    "#New Variables\n",
    "\n",
    "clf2 = DecisionTreeClassifier(random_state=0,criterion='entropy')\n",
    "clf2.fit(train[['Sexo', 'Comuna', 'Provincia', 'Region', 'Agenda',\n",
    "                   'TipoProfesional','Especialidad', 'TipoAtencion', 'Prestacion','Edad',\n",
    "                   'DiasReservaCita','Reservas Anteriores','Cancelaciones Anteriores','Atenciones Anteriores','No Atenciones Anteriores',\n",
    "                   'Distancia', 'Dia Cita']], train['EstadoCita'])\n",
    "\n",
    "score = clf2.score(test[['Sexo', 'Comuna', 'Provincia', 'Region', 'Agenda', \n",
    "                     'TipoProfesional','Especialidad', 'TipoAtencion', 'Prestacion','Edad',\n",
    "                     'DiasReservaCita','Reservas Anteriores','Cancelaciones Anteriores','Atenciones Anteriores','No Atenciones Anteriores',\n",
    "                    'Distancia','Dia Cita']], test['EstadoCita'])\n",
    "print('Score: '+str(score))\n",
    "print('Feature Importance: '+str(clf2.feature_importances_))\n",
    "\n",
    "#Confussion Matrix\n",
    "y_pred=clf2.predict(test[['Sexo', 'Comuna', 'Provincia', 'Region', 'Agenda', \n",
    "                     'TipoProfesional','Especialidad', 'TipoAtencion', 'Prestacion','Edad',\n",
    "                     'DiasReservaCita','Reservas Anteriores','Cancelaciones Anteriores','Atenciones Anteriores','No Atenciones Anteriores',\n",
    "                    'Distancia','Dia Cita']])\n",
    "class_numbers = test['EstadoCita'].unique()\n",
    "class_numbers.sort()\n",
    "class_names = le.inverse_transform(class_numbers)\n",
    "cm = confusion_matrix(test['EstadoCita'], y_pred)\n",
    "cm_fig = print_confusion_matrix(cm,class_names)"
   ]
  },
  {
   "cell_type": "code",
   "execution_count": 89,
   "metadata": {
    "scrolled": true
   },
   "outputs": [
    {
     "name": "stdout",
     "output_type": "stream",
     "text": [
      "Score: 0.42302349459443134\n"
     ]
    },
    {
     "data": {
      "image/png": "[encoded data removed]",
      "text/plain": [
       "<Figure size 504x360 with 2 Axes>"
      ]
     },
     "metadata": {
      "needs_background": "light"
     },
     "output_type": "display_data"
    }
   ],
   "source": [
    "#BaggedTrees: Original Features\n",
    "from sklearn.ensemble import BaggingClassifier\n",
    "btc1 = BaggingClassifier(base_estimator= DecisionTreeClassifier(random_state=0,criterion='entropy'),\n",
    "                         n_estimators=50,max_samples=0.9,max_features=0.8,bootstrap_features=True)\n",
    "btc1.fit(train[['Sexo', 'Comuna', 'Provincia', 'Region', 'Agenda', 'TipoProfesional',\n",
    "       'Especialidad', 'TipoAtencion', 'Prestacion']], train['EstadoCita'])\n",
    "score = btc1.score(test[['Sexo', 'Comuna', 'Provincia', 'Region', 'Agenda', 'TipoProfesional',\n",
    "       'Especialidad', 'TipoAtencion', 'Prestacion']], test['EstadoCita'])\n",
    "print('Score: '+str(score))\n",
    "\n",
    "\n",
    "#Confussion Matrix\n",
    "\n",
    "y_pred = btc1.predict(test[['Sexo', 'Comuna', 'Provincia', 'Region', 'Agenda', 'TipoProfesional',\n",
    "       'Especialidad', 'TipoAtencion', 'Prestacion']])\n",
    "class_numbers = test['EstadoCita'].unique()\n",
    "class_numbers.sort()\n",
    "class_names = le.inverse_transform(class_numbers)\n",
    "cm = confusion_matrix(test['EstadoCita'],y_pred)\n",
    "cm_fig = print_confusion_matrix(cm,class_names)"
   ]
  },
  {
   "cell_type": "code",
   "execution_count": 90,
   "metadata": {
    "scrolled": true
   },
   "outputs": [
    {
     "name": "stdout",
     "output_type": "stream",
     "text": [
      "Score: 0.47970646856314547\n"
     ]
    },
    {
     "data": {
      "image/png": "[encoded data removed]",
      "text/plain": [
       "<Figure size 504x360 with 2 Axes>"
      ]
     },
     "metadata": {
      "needs_background": "light"
     },
     "output_type": "display_data"
    }
   ],
   "source": [
    "#BaggedTrees: New Features\n",
    "from sklearn.ensemble import BaggingClassifier\n",
    "btc2 = BaggingClassifier(base_estimator= DecisionTreeClassifier(random_state=0,criterion='entropy'),\n",
    "                         n_estimators=50,max_samples=0.5,max_features=0.8,bootstrap_features=True)\n",
    "btc2.fit(train[['Sexo', 'Comuna', 'Provincia', 'Region', 'Agenda',\n",
    "                   'TipoProfesional','Especialidad', 'TipoAtencion', 'Prestacion','Edad',\n",
    "                   'DiasReservaCita','Reservas Anteriores','Cancelaciones Anteriores','Atenciones Anteriores','No Atenciones Anteriores',\n",
    "                   'Distancia', 'Dia Cita']], train['EstadoCita'])\n",
    "score = btc2.score(test[['Sexo', 'Comuna', 'Provincia', 'Region', 'Agenda', \n",
    "                     'TipoProfesional','Especialidad', 'TipoAtencion', 'Prestacion','Edad',\n",
    "                     'DiasReservaCita','Reservas Anteriores','Cancelaciones Anteriores','Atenciones Anteriores','No Atenciones Anteriores',\n",
    "                    'Distancia','Dia Cita']], test['EstadoCita'])\n",
    "print('Score: '+str(score))\n",
    "#Confussion Matrix\n",
    "y_pred=btc2.predict(test[['Sexo', 'Comuna', 'Provincia', 'Region', 'Agenda', \n",
    "                     'TipoProfesional','Especialidad', 'TipoAtencion', 'Prestacion','Edad',\n",
    "                     'DiasReservaCita','Reservas Anteriores','Cancelaciones Anteriores','Atenciones Anteriores','No Atenciones Anteriores',\n",
    "                    'Distancia','Dia Cita']])\n",
    "class_numbers = test['EstadoCita'].unique()\n",
    "class_numbers.sort()\n",
    "class_names = le.inverse_transform(class_numbers)\n",
    "cm = confusion_matrix(test['EstadoCita'], y_pred)\n",
    "cm_fig = print_confusion_matrix(cm,class_names)"
   ]
  },
  {
   "cell_type": "code",
   "execution_count": null,
   "metadata": {
    "scrolled": true
   },
   "outputs": [
    {
     "name": "stdout",
     "output_type": "stream",
     "text": [
      "WARNING:tensorflow:From /Users/pablouribepizarro/anaconda3/envs/keras_ts/lib/python3.7/site-packages/tensorflow/python/ops/math_ops.py:3066: to_int32 (from tensorflow.python.ops.math_ops) is deprecated and will be removed in a future version.\n",
      "Instructions for updating:\n",
      "Use tf.cast instead.\n",
      "WARNING:tensorflow:From /Users/pablouribepizarro/anaconda3/envs/keras_ts/lib/python3.7/site-packages/tensorflow/python/ops/math_grad.py:102: div (from tensorflow.python.ops.math_ops) is deprecated and will be removed in a future version.\n",
      "Instructions for updating:\n",
      "Deprecated in favor of operator or tf.math.divide.\n",
      "Epoch 1/10\n",
      "33228/33228 [==============================] - 3s 82us/step - loss: 1.0489 - acc: 0.3308\n",
      "Epoch 2/10\n",
      "33228/33228 [==============================] - 1s 45us/step - loss: 0.9939 - acc: 0.3410\n",
      "Epoch 3/10\n",
      "33228/33228 [==============================] - 1s 44us/step - loss: 0.9800 - acc: 0.3437\n",
      "Epoch 4/10\n",
      "33228/33228 [==============================] - 1s 41us/step - loss: 0.9701 - acc: 0.3438\n",
      "Epoch 5/10\n",
      "33228/33228 [==============================] - 1s 41us/step - loss: 0.9675 - acc: 0.3431\n",
      "Epoch 6/10\n",
      "33228/33228 [==============================] - 2s 49us/step - loss: 0.9635 - acc: 0.3446\n",
      "Epoch 7/10\n",
      "33228/33228 [==============================] - 2s 48us/step - loss: 0.9589 - acc: 0.3460\n",
      "Epoch 8/10\n",
      "33228/33228 [==============================] - 1s 44us/step - loss: 0.9576 - acc: 0.3475\n",
      "Epoch 9/10\n",
      "33228/33228 [==============================] - 1s 45us/step - loss: 0.9562 - acc: 0.3458\n",
      "Epoch 10/10\n",
      "33228/33228 [==============================] - 1s 38us/step - loss: 0.9550 - acc: 0.3464\n",
      "33114/33114 [==============================] - 1s 17us/step\n"
     ]
    }
   ],
   "source": [
    "#Neuronal Network\n",
    "import keras\n",
    "from keras.models import Sequential\n",
    "from keras.layers import Dense, Dropout, Activation,ReLU\n",
    "from keras.optimizers import SGD\n",
    "\n",
    "# Generate dummy data\n",
    "x_train = train[['Especialidad', 'TipoAtencion', 'Prestacion','Edad',\n",
    "                   'DiasReservaCita','Reservas Anteriores','Cancelaciones Anteriores','Atenciones Anteriores','No Atenciones Anteriores',\n",
    "                   'Distancia', 'Dia Cita']]\n",
    "y_train = keras.utils.to_categorical(train['EstadoCita'])\n",
    "x_test = test[['Especialidad', 'TipoAtencion', 'Prestacion','Edad',\n",
    "                   'DiasReservaCita','Reservas Anteriores','Cancelaciones Anteriores','Atenciones Anteriores','No Atenciones Anteriores',\n",
    "                   'Distancia', 'Dia Cita']]\n",
    "y_test = keras.utils.to_categorical(test['EstadoCita'])\n",
    "\n",
    "model = Sequential()\n",
    "model.add(Dense(20, activation='relu', input_dim=11))\n",
    "model.add(Dropout(0.5))\n",
    "model.add(Dense(20, activation='relu'))\n",
    "model.add(Dropout(0.5))\n",
    "model.add(Dense(3, activation='sigmoid'))\n",
    "\n",
    "sgd = SGD(lr=0.01, decay=1e-6, momentum=0.9, nesterov=True)\n",
    "model.compile(loss='categorical_hinge',\n",
    "              optimizer=sgd,\n",
    "              metrics=['accuracy'])\n",
    "\n",
    "model.fit(x_train, y_train,\n",
    "          epochs=10,\n",
    "          batch_size=128)\n",
    "score = model.evaluate(x_test, y_test, batch_size=128)"
   ]
  },
  {
   "cell_type": "code",
   "execution_count": null,
   "metadata": {
    "scrolled": true
   },
   "outputs": [],
   "source": [
    "y_pred=np.argmax(model.predict(test[['Especialidad', 'TipoAtencion', 'Prestacion','Edad',\n",
    "                     'DiasReservaCita','Reservas Anteriores','Cancelaciones Anteriores','Atenciones Anteriores','No Atenciones Anteriores',\n",
    "                    'Distancia','Dia Cita']]),axis=1)\n",
    "\n",
    "class_numbers = test['EstadoCita'].unique()\n",
    "class_numbers.sort()\n",
    "class_names = le.inverse_transform(class_numbers)\n",
    "cm = confusion_matrix(test['EstadoCita'], y_pred)\n",
    "cm_fig = print_confusion_matrix(cm,class_names)"
   ]
  },
  {
   "cell_type": "code",
   "execution_count": null,
   "metadata": {
    "scrolled": true
   },
   "outputs": [],
   "source": [
    "#Neuronal Network: Logistic Regression Architecture\n",
    "import keras\n",
    "from keras.models import Sequential\n",
    "from keras.layers import Dense, Dropout, Activation,ReLU\n",
    "from keras.optimizers import SGD\n",
    "\n",
    "# Generate dummy data\n",
    "x_train = train[['Especialidad', 'TipoAtencion', 'Prestacion','Edad',\n",
    "                   'DiasReservaCita','Reservas Anteriores','Cancelaciones Anteriores','Atenciones Anteriores','No Atenciones Anteriores',\n",
    "                   'Distancia', 'Dia Cita']]\n",
    "y_train = keras.utils.to_categorical(train['EstadoCita'])\n",
    "x_test = test[['Especialidad', 'TipoAtencion', 'Prestacion','Edad',\n",
    "                   'DiasReservaCita','Reservas Anteriores','Cancelaciones Anteriores','Atenciones Anteriores','No Atenciones Anteriores',\n",
    "                   'Distancia', 'Dia Cita']]\n",
    "y_test = keras.utils.to_categorical(test['EstadoCita'])\n",
    "\n",
    "model = Sequential()\n",
    "model.add(Dense(3, activation='sigmoid',input_dim=11))\n",
    "\n",
    "sgd = SGD(lr=0.01, decay=1e-6, momentum=0.9, nesterov=True)\n",
    "model.compile(loss='categorical_hinge',\n",
    "              optimizer=sgd,\n",
    "              metrics=['accuracy'])\n",
    "\n",
    "model.fit(x_train, y_train,\n",
    "          epochs=10,\n",
    "          batch_size=128)\n",
    "score = model.evaluate(x_test, y_test, batch_size=128)"
   ]
  },
  {
   "cell_type": "code",
   "execution_count": null,
   "metadata": {
    "scrolled": true
   },
   "outputs": [],
   "source": [
    "y_pred=np.argmax(model.predict(test[['Especialidad', 'TipoAtencion', 'Prestacion','Edad',\n",
    "                     'DiasReservaCita','Reservas Anteriores','Cancelaciones Anteriores','Atenciones Anteriores','No Atenciones Anteriores',\n",
    "                    'Distancia','Dia Cita']]),axis=1)\n",
    "\n",
    "class_numbers = test['EstadoCita'].unique()\n",
    "class_numbers.sort()\n",
    "class_names = le.inverse_transform(class_numbers)\n",
    "cm = confusion_matrix(test['EstadoCita'], y_pred)\n",
    "cm_fig = print_confusion_matrix(cm,class_names)"
   ]
  },
  {
   "cell_type": "code",
   "execution_count": 21,
   "metadata": {},
   "outputs": [
    {
     "name": "stderr",
     "output_type": "stream",
     "text": [
      "/Users/pablouribepizarro/anaconda3/envs/keras_ts/lib/python3.7/site-packages/sklearn/svm/base.py:929: ConvergenceWarning: Liblinear failed to converge, increase the number of iterations.\n",
      "  \"the number of iterations.\", ConvergenceWarning)\n"
     ]
    },
    {
     "data": {
      "text/plain": [
       "LinearSVC(C=0.1, class_weight=None, dual=True, fit_intercept=True,\n",
       "          intercept_scaling=1, loss='squared_hinge', max_iter=1000,\n",
       "          multi_class='ovr', penalty='l2', random_state=None, tol=0.0001,\n",
       "          verbose=0)"
      ]
     },
     "execution_count": 21,
     "metadata": {},
     "output_type": "execute_result"
    }
   ],
   "source": [
    "#Support Vector Machine: Original Features\n",
    "from sklearn import svm\n",
    "clf = svm.LinearSVC(C= 0.1)\n",
    "clf.fit(train[['Sexo', 'Comuna', 'Provincia', 'Region', 'Agenda',\n",
    "                   'TipoProfesional','Especialidad', 'TipoAtencion', 'Prestacion']], train['EstadoCita']) "
   ]
  },
  {
   "cell_type": "code",
   "execution_count": 22,
   "metadata": {},
   "outputs": [],
   "source": [
    "score = clf.score(test[['Sexo', 'Comuna', 'Provincia', 'Region', 'Agenda', \n",
    "                     'TipoProfesional','Especialidad', 'TipoAtencion', 'Prestacion']], test['EstadoCita'])"
   ]
  },
  {
   "cell_type": "code",
   "execution_count": 23,
   "metadata": {},
   "outputs": [
    {
     "data": {
      "text/plain": [
       "0.3956133470101973"
      ]
     },
     "execution_count": 23,
     "metadata": {},
     "output_type": "execute_result"
    }
   ],
   "source": [
    "score"
   ]
  },
  {
   "cell_type": "code",
   "execution_count": 27,
   "metadata": {},
   "outputs": [
    {
     "name": "stderr",
     "output_type": "stream",
     "text": [
      "/Users/pablouribepizarro/anaconda3/envs/keras_ts/lib/python3.7/site-packages/sklearn/svm/base.py:929: ConvergenceWarning: Liblinear failed to converge, increase the number of iterations.\n",
      "  \"the number of iterations.\", ConvergenceWarning)\n"
     ]
    },
    {
     "data": {
      "text/plain": [
       "LinearSVC(C=0.5, class_weight=None, dual=True, fit_intercept=True,\n",
       "          intercept_scaling=1, loss='squared_hinge', max_iter=1000,\n",
       "          multi_class='ovr', penalty='l2', random_state=None, tol=0.0001,\n",
       "          verbose=0)"
      ]
     },
     "execution_count": 27,
     "metadata": {},
     "output_type": "execute_result"
    }
   ],
   "source": [
    "#Support Vector Machine: New features\n",
    "s\n",
    "clf = svm.LinearSVC(C=0.5)\n",
    "clf.fit(train[['Sexo', 'Comuna', 'Provincia', 'Region', 'Agenda',\n",
    "                   'TipoProfesional','Especialidad', 'TipoAtencion', 'Prestacion','Edad',\n",
    "                   'DiasReservaCita','Reservas Anteriores','Cancelaciones Anteriores','Atenciones Anteriores','No Atenciones Anteriores',\n",
    "                   'Distancia', 'Dia Cita']], train['EstadoCita']) "
   ]
  },
  {
   "cell_type": "code",
   "execution_count": 28,
   "metadata": {},
   "outputs": [],
   "source": [
    "score = clf.score(test[['Sexo', 'Comuna', 'Provincia', 'Region', 'Agenda', \n",
    "                     'TipoProfesional','Especialidad', 'TipoAtencion', 'Prestacion','Edad',\n",
    "                     'DiasReservaCita','Reservas Anteriores','Cancelaciones Anteriores','Atenciones Anteriores','No Atenciones Anteriores',\n",
    "                    'Distancia','Dia Cita']], test['EstadoCita'])"
   ]
  },
  {
   "cell_type": "code",
   "execution_count": 31,
   "metadata": {},
   "outputs": [
    {
     "data": {
      "text/plain": [
       "SVC(C=0.5, cache_size=200, class_weight=None, coef0=0.0,\n",
       "    decision_function_shape='ovo', degree=3, gamma='scale', kernel='rbf',\n",
       "    max_iter=-1, probability=False, random_state=None, shrinking=True,\n",
       "    tol=0.001, verbose=False)"
      ]
     },
     "execution_count": 31,
     "metadata": {},
     "output_type": "execute_result"
    }
   ],
   "source": [
    "#Support Vector Machine: New features\n",
    "from sklearn import svm\n",
    "clf = svm.SVC(C=0.5, decision_function_shape='ovo', gamma = 'scale')\n",
    "clf.fit(train[['Sexo', 'Comuna', 'Provincia', 'Region', 'Agenda',\n",
    "                   'TipoProfesional','Especialidad', 'TipoAtencion', 'Prestacion','Edad',\n",
    "                   'DiasReservaCita','Reservas Anteriores','Cancelaciones Anteriores','Atenciones Anteriores','No Atenciones Anteriores',\n",
    "                   'Distancia', 'Dia Cita']], train['EstadoCita']) "
   ]
  },
  {
   "cell_type": "code",
   "execution_count": 33,
   "metadata": {},
   "outputs": [],
   "source": [
    "score = clf.score(test[['Sexo', 'Comuna', 'Provincia', 'Region', 'Agenda', \n",
    "                     'TipoProfesional','Especialidad', 'TipoAtencion', 'Prestacion','Edad',\n",
    "                     'DiasReservaCita','Reservas Anteriores','Cancelaciones Anteriores','Atenciones Anteriores','No Atenciones Anteriores',\n",
    "                    'Distancia','Dia Cita']], test['EstadoCita'])"
   ]
  },
  {
   "cell_type": "code",
   "execution_count": null,
   "metadata": {},
   "outputs": [
    {
     "name": "stderr",
     "output_type": "stream",
     "text": [
      "/Users/pablouribepizarro/anaconda3/envs/keras_ts/lib/python3.7/site-packages/sklearn/svm/base.py:193: FutureWarning: The default value of gamma will change from 'auto' to 'scale' in version 0.22 to account better for unscaled features. Set gamma explicitly to 'auto' or 'scale' to avoid this warning.\n",
      "  \"avoid this warning.\", FutureWarning)\n"
     ]
    }
   ],
   "source": [
    "#Support Vector Machine: New features\n",
    "from sklearn import svm\n",
    "clf = svm.SVC(C=0.5, decision_function_shape='ovo', kernel='poly', degree=3)\n",
    "clf.fit(train[['Sexo', 'Comuna', 'Provincia', 'Region', 'Agenda',\n",
    "                   'TipoProfesional','Especialidad', 'TipoAtencion', 'Prestacion','Edad',\n",
    "                   'DiasReservaCita','Reservas Anteriores','Cancelaciones Anteriores','Atenciones Anteriores','No Atenciones Anteriores',\n",
    "                   'Distancia', 'Dia Cita']], train['EstadoCita']) "
   ]
  }
 ],
 "metadata": {
  "kernelspec": {
   "display_name": "Python 3",
   "language": "python",
   "name": "python3"
  },
  "language_info": {
   "codemirror_mode": {
    "name": "ipython",
    "version": 3
   },
   "file_extension": ".py",
   "mimetype": "text/x-python",
   "name": "python",
   "nbconvert_exporter": "python",
   "pygments_lexer": "ipython3",
   "version": "3.7.3"
  }
 },
 "nbformat": 4,
 "nbformat_minor": 2
}
