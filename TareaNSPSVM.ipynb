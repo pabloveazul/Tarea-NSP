{
 "cells": [
  {
   "cell_type": "code",
   "execution_count": 32,
   "metadata": {},
   "outputs": [],
   "source": [
    "import pandas as pd\n",
    "import seaborn as sns\n",
    "import numpy as np\n",
    "import matplotlib.pyplot as plt\n",
    "%matplotlib inline "
   ]
  },
  {
   "cell_type": "code",
   "execution_count": 33,
   "metadata": {},
   "outputs": [],
   "source": [
    "#Import Data\n",
    "local_path = r'C:\\Users\\alons\\OneDrive\\Documentos\\GitHub\\Tarea-NSP\\\\'\n",
    "datos = pd.read_csv(local_path + 'data_new_features_clean.csv')\n"
   ]
  },
  {
   "cell_type": "code",
   "execution_count": 34,
   "metadata": {},
   "outputs": [],
   "source": [
    "#Transform Data into Numerical:\n",
    "\n",
    "datos['FechaNac'] = pd.to_datetime(datos['FechaNac'])\n",
    "datos['FechaReserva'] = pd.to_datetime(datos['FechaReserva'])\n",
    "datos['FechaCita'] = pd.to_datetime(datos['FechaCita'])\n",
    "datos = datos.sort_values('FechaCita')"
   ]
  },
  {
   "cell_type": "code",
   "execution_count": 36,
   "metadata": {},
   "outputs": [],
   "source": [
    "#Transform Data into Numerical\n",
    "from sklearn import preprocessing\n",
    "le = preprocessing.LabelEncoder()\n",
    "\n",
    "\n",
    "column_list = [] #str columns\n",
    "for column in datos.columns:\n",
    "    if datos[column].dtype == 'O':\n",
    "        column_list.append(column)\n",
    "\n",
    "datos_num = datos[column_list].astype(str).apply(le.fit_transform)\n",
    "for column in datos.columns:\n",
    "    if datos[column].dtype != 'O':\n",
    "        datos_num[column] = datos[column]"
   ]
  },
  {
   "cell_type": "markdown",
   "metadata": {},
   "source": [
    "## Parte 4 SVM"
   ]
  },
  {
   "cell_type": "markdown",
   "metadata": {},
   "source": [
    "Recordando lo visto en clase, el problema SVM consiste en la separación de un conjunto de observaciones $x_{i} \\in \\mathbb{R}^{m}$, $i \\in \\{1,..,n\\}$, en este caso de la base de datos ya especificada, donde $n = 122.862$ es la cantidad de observaciones y $m = 13$ es la cantidad de variables a tener en cuenta para el análisis, por su etiqueda correspondiente $y_{i} \\in \\{'Atendido', 'No Atendido', 'Cancelado'\\}$ mediante hiperplanos. \n",
    "\n",
    "La siguiente formulación corresponde al caso en que el etiquetado es binario, y existen variables de holgura $\\xi_{i}$ que permiten darle factibilidad al problema incluso si los datos no son separables, además de la función $\\phi(.)$, que representa una función Kernel. La constante $C \\ge 0$ corresponde a la penalización asociada a las holguras, que variaría según se estime conveniente."
   ]
  },
  {
   "cell_type": "markdown",
   "metadata": {},
   "source": [
    "%%latex\n",
    "\n",
    "\n",
    "\\begin{equation*}\n",
    "\\begin{aligned}\n",
    "& \\underset{w,b,\\xi}{\\text{minimize}}\n",
    "& & \\frac{1}{2}w^{T}w + C\\sum_{i = 1}^{n}\\xi_{i} \\\\\n",
    "& \\text{subject to}\n",
    "& & y_{i}(w^{T}\\phi(x_{i})+b) \\geq 1-\\xi_{i} , \\; i = 1, \\ldots, n.\\\\\n",
    "& & & \\xi_{i} \\geq 0\n",
    "\\end{aligned}\n",
    "\\end{equation*}"
   ]
  },
  {
   "cell_type": "markdown",
   "metadata": {},
   "source": [
    "El modelo anterior es el que utiliza la librería LIBSVM para el método SVC, que se utilizará para realizar el estudio de la pertinencia de este modelo para el problema NSP. Cabe destacar que es un modelo generalizado para $n$ etiquetas, que en este caso son $\\{'Atendido', 'No Atendido', 'Cancelado'\\}$, identificadas con los números $\\{1,2,4\\}$ respectivamente. ESsto para poder correr el modelo.\n",
    "\n",
    "Dado que se desea trabajar sólo con esas tres etiquetas, se procederá a eliminar aquellas distintas de estas."
   ]
  },
  {
   "cell_type": "code",
   "execution_count": 43,
   "metadata": {},
   "outputs": [],
   "source": [
    "##Generación DataFrame con sólo 3 etiquetas posibles: 'Atendido', 'No Atendido', 'Cancelado'\n",
    "datos_num_three_states = datos_num[(datos_num.EstadoCita != 0) & (datos_num.EstadoCita != 3)\n",
    "                                                 & (datos_num.EstadoCita != 5)]"
   ]
  },
  {
   "cell_type": "markdown",
   "metadata": {},
   "source": [
    "Como se mencionó anteriormente, esta es una base de datos desbalanceada respecto a la muestra de etiquetas, como se puede ver en el siguiente gráfico. Los porcentajes de cada cual son los siguientes:"
   ]
  },
  {
   "cell_type": "code",
   "execution_count": 44,
   "metadata": {},
   "outputs": [
    {
     "data": {
      "text/plain": [
       "<matplotlib.axes._subplots.AxesSubplot at 0x21c58a7d400>"
      ]
     },
     "execution_count": 44,
     "metadata": {},
     "output_type": "execute_result"
    },
    {
     "data": {
      "image/png": "[encoded data removed]",
      "text/plain": [
       "<Figure size 432x288 with 1 Axes>"
      ]
     },
     "metadata": {
      "needs_background": "light"
     },
     "output_type": "display_data"
    }
   ],
   "source": [
    "##Gráfico de frecuencias\n",
    "datos_num_three_states['EstadoCita'].plot.hist()"
   ]
  },
  {
   "cell_type": "code",
   "execution_count": 45,
   "metadata": {},
   "outputs": [
    {
     "name": "stdout",
     "output_type": "stream",
     "text": [
      "62.988556266380165 porcentaje de 'Atendido'\n",
      "19.012387882339535 porcentaje de 'Cancelado'\n",
      "17.9990558512803 porcentaje de 'No Atendido'\n"
     ]
    }
   ],
   "source": [
    "##Porcentajes de cada etiqueta en todo el DataFrame final.\n",
    "frecuency = datos_num_three_states.groupby('EstadoCita').count()\n",
    "print(100*frecuency.iloc[0,1]/(frecuency.iloc[0,1]+frecuency.iloc[1,1]+frecuency.iloc[2,1]), \"porcentaje de 'Atendido'\")\n",
    "print(100*frecuency.iloc[1,1]/(frecuency.iloc[0,1]+frecuency.iloc[1,1]+frecuency.iloc[2,1]), \"porcentaje de 'Cancelado'\")\n",
    "print(100*frecuency.iloc[2,1]/(frecuency.iloc[0,1]+frecuency.iloc[1,1]+frecuency.iloc[2,1]), \"porcentaje de 'No Atendido'\")"
   ]
  },
  {
   "cell_type": "markdown",
   "metadata": {},
   "source": [
    "A continuación, se procede a realizar un 'Undersampling' de la etiqueta $'Atendido'$ con un 20% seleccionado aleatoreamente, mientras que se toman un 50% de las restantes de  la misma forma. Esto para generar un conjunto de entrenamiento adecuado para el clasificador de SVM, debido que, dadas pruebas anteriores, al entrenar con una gran cantidad de elementos $'Atendidos'$ se llegaba a que no se reconocían los otros dos tipos de etiquetas, i.e., todo quedaba etiquetado con $'Atendido'$. Esto da como resultado un DataFrame de tamaño $n_{training}=38.215$ y  $ m = 13$. Como consecuencia directa, el conjunto de datos test queda de tamaño $n_{test} = 82.647$ con las mismas $m$ variables. "
   ]
  },
  {
   "cell_type": "code",
   "execution_count": 47,
   "metadata": {},
   "outputs": [],
   "source": [
    "##SubDataFrames con las posibles etiiquetas\n",
    "datos_num_atendidos = datos_num[datos_num.EstadoCita == 1]\n",
    "datos_num_cancelados = datos_num[datos_num.EstadoCita == 2]\n",
    "datos_num_no_asistidos = datos_num[datos_num.EstadoCita == 4]"
   ]
  },
  {
   "cell_type": "code",
   "execution_count": 48,
   "metadata": {},
   "outputs": [
    {
     "name": "stdout",
     "output_type": "stream",
     "text": [
      "\n",
      " (77389, 25) \n",
      " (23359, 25) \n",
      " (22114, 25)\n"
     ]
    }
   ],
   "source": [
    "##Shapes de los DataFrames de cada etiqueta.\n",
    "print(\"\\n\",datos_num_atendidos.shape,'shape de Atendidos', \"\\n\",datos_num_cancelados.shape,\n",
    "      'shape de Cancelados', \"\\n\",datos_num_no_asistidos.shape,'shape de No Atendidos')"
   ]
  },
  {
   "cell_type": "code",
   "execution_count": 136,
   "metadata": {},
   "outputs": [],
   "source": [
    "##Elección de traininng set de forma aleatorea con una semilla.\n",
    "datos_num_atendidos_training = datos_num_atendidos.sample(frac=0.20, random_state=857)\n",
    "datos_num_cancelados_training = datos_num_cancelados.sample(frac=0.5, random_state=857)\n",
    "datos_num_no_asistidos_training = datos_num_no_asistidos.sample(frac=0.5, random_state=857)"
   ]
  },
  {
   "cell_type": "code",
   "execution_count": 137,
   "metadata": {},
   "outputs": [],
   "source": [
    "##Generación DataFrame final de training set.\n",
    "datos_num_training = datos_num_atendidos_training.append(datos_num_cancelados_training,sort=False)\n",
    "datos_num_training = datos_num_training.append(datos_num_no_asistidos_training,sort=False)"
   ]
  },
  {
   "cell_type": "markdown",
   "metadata": {},
   "source": [
    "Durante el proceso de prueba de SVM como clasificador, se trabajó utilizando diferentes combinaciones de columnas del conjunto de datos para realizar la clasificación. En ello se notó que dada una gran cantidad de columnas, en predictor se volvía volátil y, dependiendo de la cantidad de datos con los que se entrenara de cada etiqueta, los resultados se inclinaban sólo a una. El fenómeno se mitigó al disminuir la cantidad de columnas y probar distintas combinaciones, por lo que, para los resultados que se analizarán, se trabajará con las siguientes variables: Sexo, Comuna, Agenda, TipoProfesional, Especialidad, TipoAtencion, Distancia, Reservas Anteriores, Edad, DiasReservaCita, Dia Cita, Mes Cita, Cancelaciones Anteriores, Atenciones Anteriores."
   ]
  },
  {
   "cell_type": "code",
   "execution_count": 138,
   "metadata": {},
   "outputs": [],
   "source": [
    "##Separación etiquetas de los datos, además de quitar aquellas columnas que no queremos que aparezcan.\n",
    "y = datos_num_training['EstadoCita']\n",
    "X = datos_num_training.drop(['EstadoCita','FechaNac','FechaReserva','FechaCita','Unnamed: 0','PAID',\n",
    "                             'Prestacion','Provincia','Region','CodPrestacion','No Atenciones Anteriores'], axis=1)"
   ]
  },
  {
   "cell_type": "code",
   "execution_count": 139,
   "metadata": {},
   "outputs": [],
   "source": [
    "##Lista de índices.\n",
    "training_index = list(X.index)"
   ]
  },
  {
   "cell_type": "code",
   "execution_count": 140,
   "metadata": {},
   "outputs": [
    {
     "data": {
      "text/plain": [
       "(84647, 14)"
      ]
     },
     "execution_count": 140,
     "metadata": {},
     "output_type": "execute_result"
    }
   ],
   "source": [
    "##Generación DataFrame de conjunto test para probar el predictor.\n",
    "datos_num_test = datos_num_three_states.drop(training_index)\n",
    "datos_num_test_unlabeled = datos_num_test.drop(['EstadoCita','FechaNac','FechaReserva','FechaCita','Unnamed: 0','PAID',\n",
    "                                                 'Prestacion','Provincia','Region','CodPrestacion'\n",
    "                                                ,'No Atenciones Anteriores'], axis=1)\n",
    "datos_num_test_labels = datos_num_test['EstadoCita']\n",
    "datos_num_test_unlabeled.shape\n"
   ]
  },
  {
   "cell_type": "code",
   "execution_count": 143,
   "metadata": {},
   "outputs": [
    {
     "data": {
      "text/html": [
       "<div>\n",
       "<style scoped>\n",
       "    .dataframe tbody tr th:only-of-type {\n",
       "        vertical-align: middle;\n",
       "    }\n",
       "\n",
       "    .dataframe tbody tr th {\n",
       "        vertical-align: top;\n",
       "    }\n",
       "\n",
       "    .dataframe thead th {\n",
       "        text-align: right;\n",
       "    }\n",
       "</style>\n",
       "<table border=\"1\" class=\"dataframe\">\n",
       "  <thead>\n",
       "    <tr style=\"text-align: right;\">\n",
       "      <th></th>\n",
       "      <th>Sexo</th>\n",
       "      <th>Comuna</th>\n",
       "      <th>Agenda</th>\n",
       "      <th>TipoProfesional</th>\n",
       "      <th>Especialidad</th>\n",
       "      <th>TipoAtencion</th>\n",
       "      <th>Distancia</th>\n",
       "      <th>Reservas Anteriores</th>\n",
       "      <th>Edad</th>\n",
       "      <th>DiasReservaCita</th>\n",
       "      <th>Dia Cita</th>\n",
       "      <th>Mes Cita</th>\n",
       "      <th>Cancelaciones Anteriores</th>\n",
       "      <th>Atenciones Anteriores</th>\n",
       "    </tr>\n",
       "  </thead>\n",
       "  <tbody>\n",
       "    <tr>\n",
       "      <th>64202</th>\n",
       "      <td>0.333333</td>\n",
       "      <td>0.474265</td>\n",
       "      <td>0.2</td>\n",
       "      <td>0.333333</td>\n",
       "      <td>0.0</td>\n",
       "      <td>0.333333</td>\n",
       "      <td>0.000000</td>\n",
       "      <td>0.005025</td>\n",
       "      <td>0.040375</td>\n",
       "      <td>0.069597</td>\n",
       "      <td>1.00</td>\n",
       "      <td>0.000000</td>\n",
       "      <td>0.000000</td>\n",
       "      <td>0.01</td>\n",
       "    </tr>\n",
       "    <tr>\n",
       "      <th>69810</th>\n",
       "      <td>1.000000</td>\n",
       "      <td>0.632353</td>\n",
       "      <td>0.8</td>\n",
       "      <td>0.666667</td>\n",
       "      <td>1.0</td>\n",
       "      <td>0.333333</td>\n",
       "      <td>0.000000</td>\n",
       "      <td>0.000000</td>\n",
       "      <td>0.033931</td>\n",
       "      <td>0.005495</td>\n",
       "      <td>1.00</td>\n",
       "      <td>0.272727</td>\n",
       "      <td>0.000000</td>\n",
       "      <td>0.00</td>\n",
       "    </tr>\n",
       "    <tr>\n",
       "      <th>100759</th>\n",
       "      <td>1.000000</td>\n",
       "      <td>0.551471</td>\n",
       "      <td>0.6</td>\n",
       "      <td>0.666667</td>\n",
       "      <td>1.0</td>\n",
       "      <td>0.666667</td>\n",
       "      <td>0.777778</td>\n",
       "      <td>0.045226</td>\n",
       "      <td>0.096842</td>\n",
       "      <td>0.001832</td>\n",
       "      <td>0.50</td>\n",
       "      <td>0.272727</td>\n",
       "      <td>0.005076</td>\n",
       "      <td>0.08</td>\n",
       "    </tr>\n",
       "    <tr>\n",
       "      <th>87829</th>\n",
       "      <td>1.000000</td>\n",
       "      <td>0.680147</td>\n",
       "      <td>0.0</td>\n",
       "      <td>0.666667</td>\n",
       "      <td>1.0</td>\n",
       "      <td>0.666667</td>\n",
       "      <td>0.000000</td>\n",
       "      <td>0.010050</td>\n",
       "      <td>0.172861</td>\n",
       "      <td>0.230769</td>\n",
       "      <td>0.25</td>\n",
       "      <td>0.909091</td>\n",
       "      <td>0.000000</td>\n",
       "      <td>0.02</td>\n",
       "    </tr>\n",
       "    <tr>\n",
       "      <th>79915</th>\n",
       "      <td>1.000000</td>\n",
       "      <td>0.959559</td>\n",
       "      <td>0.6</td>\n",
       "      <td>0.666667</td>\n",
       "      <td>1.0</td>\n",
       "      <td>0.666667</td>\n",
       "      <td>0.222222</td>\n",
       "      <td>0.040201</td>\n",
       "      <td>0.146453</td>\n",
       "      <td>0.000000</td>\n",
       "      <td>0.25</td>\n",
       "      <td>0.636364</td>\n",
       "      <td>0.000000</td>\n",
       "      <td>0.07</td>\n",
       "    </tr>\n",
       "  </tbody>\n",
       "</table>\n",
       "</div>"
      ],
      "text/plain": [
       "            Sexo    Comuna  Agenda  TipoProfesional  Especialidad  \\\n",
       "64202   0.333333  0.474265     0.2         0.333333           0.0   \n",
       "69810   1.000000  0.632353     0.8         0.666667           1.0   \n",
       "100759  1.000000  0.551471     0.6         0.666667           1.0   \n",
       "87829   1.000000  0.680147     0.0         0.666667           1.0   \n",
       "79915   1.000000  0.959559     0.6         0.666667           1.0   \n",
       "\n",
       "        TipoAtencion  Distancia  Reservas Anteriores      Edad  \\\n",
       "64202       0.333333   0.000000             0.005025  0.040375   \n",
       "69810       0.333333   0.000000             0.000000  0.033931   \n",
       "100759      0.666667   0.777778             0.045226  0.096842   \n",
       "87829       0.666667   0.000000             0.010050  0.172861   \n",
       "79915       0.666667   0.222222             0.040201  0.146453   \n",
       "\n",
       "        DiasReservaCita  Dia Cita  Mes Cita  Cancelaciones Anteriores  \\\n",
       "64202          0.069597      1.00  0.000000                  0.000000   \n",
       "69810          0.005495      1.00  0.272727                  0.000000   \n",
       "100759         0.001832      0.50  0.272727                  0.005076   \n",
       "87829          0.230769      0.25  0.909091                  0.000000   \n",
       "79915          0.000000      0.25  0.636364                  0.000000   \n",
       "\n",
       "        Atenciones Anteriores  \n",
       "64202                    0.01  \n",
       "69810                    0.00  \n",
       "100759                   0.08  \n",
       "87829                    0.02  \n",
       "79915                    0.07  "
      ]
     },
     "execution_count": 143,
     "metadata": {},
     "output_type": "execute_result"
    }
   ],
   "source": [
    "##Estandarización con ciretio min-max training set\n",
    "df_training_normalized = (X-X.min())/(X.max()-X.min())\n",
    "df_training_normalized.head()"
   ]
  },
  {
   "cell_type": "code",
   "execution_count": 144,
   "metadata": {
    "scrolled": true
   },
   "outputs": [
    {
     "data": {
      "text/html": [
       "<div>\n",
       "<style scoped>\n",
       "    .dataframe tbody tr th:only-of-type {\n",
       "        vertical-align: middle;\n",
       "    }\n",
       "\n",
       "    .dataframe tbody tr th {\n",
       "        vertical-align: top;\n",
       "    }\n",
       "\n",
       "    .dataframe thead th {\n",
       "        text-align: right;\n",
       "    }\n",
       "</style>\n",
       "<table border=\"1\" class=\"dataframe\">\n",
       "  <thead>\n",
       "    <tr style=\"text-align: right;\">\n",
       "      <th></th>\n",
       "      <th>Sexo</th>\n",
       "      <th>Comuna</th>\n",
       "      <th>Agenda</th>\n",
       "      <th>TipoProfesional</th>\n",
       "      <th>Especialidad</th>\n",
       "      <th>TipoAtencion</th>\n",
       "      <th>Distancia</th>\n",
       "      <th>Reservas Anteriores</th>\n",
       "      <th>Edad</th>\n",
       "      <th>DiasReservaCita</th>\n",
       "      <th>Dia Cita</th>\n",
       "      <th>Mes Cita</th>\n",
       "      <th>Cancelaciones Anteriores</th>\n",
       "      <th>Atenciones Anteriores</th>\n",
       "    </tr>\n",
       "  </thead>\n",
       "  <tbody>\n",
       "    <tr>\n",
       "      <th>0</th>\n",
       "      <td>0.333333</td>\n",
       "      <td>1.000000</td>\n",
       "      <td>0.2</td>\n",
       "      <td>0.666667</td>\n",
       "      <td>0.0</td>\n",
       "      <td>0.333333</td>\n",
       "      <td>0.0</td>\n",
       "      <td>0.0</td>\n",
       "      <td>0.080523</td>\n",
       "      <td>0.025641</td>\n",
       "      <td>1.0</td>\n",
       "      <td>0.0</td>\n",
       "      <td>0.0</td>\n",
       "      <td>0.0</td>\n",
       "    </tr>\n",
       "    <tr>\n",
       "      <th>26</th>\n",
       "      <td>1.000000</td>\n",
       "      <td>0.632353</td>\n",
       "      <td>0.2</td>\n",
       "      <td>0.666667</td>\n",
       "      <td>0.0</td>\n",
       "      <td>0.333333</td>\n",
       "      <td>0.0</td>\n",
       "      <td>0.0</td>\n",
       "      <td>0.005817</td>\n",
       "      <td>0.078755</td>\n",
       "      <td>1.0</td>\n",
       "      <td>0.0</td>\n",
       "      <td>0.0</td>\n",
       "      <td>0.0</td>\n",
       "    </tr>\n",
       "    <tr>\n",
       "      <th>27</th>\n",
       "      <td>0.333333</td>\n",
       "      <td>0.477941</td>\n",
       "      <td>0.2</td>\n",
       "      <td>0.666667</td>\n",
       "      <td>0.0</td>\n",
       "      <td>0.333333</td>\n",
       "      <td>0.0</td>\n",
       "      <td>0.0</td>\n",
       "      <td>0.069859</td>\n",
       "      <td>0.078755</td>\n",
       "      <td>1.0</td>\n",
       "      <td>0.0</td>\n",
       "      <td>0.0</td>\n",
       "      <td>0.0</td>\n",
       "    </tr>\n",
       "    <tr>\n",
       "      <th>29</th>\n",
       "      <td>0.333333</td>\n",
       "      <td>0.632353</td>\n",
       "      <td>0.6</td>\n",
       "      <td>0.666667</td>\n",
       "      <td>1.0</td>\n",
       "      <td>0.000000</td>\n",
       "      <td>0.0</td>\n",
       "      <td>0.0</td>\n",
       "      <td>0.040570</td>\n",
       "      <td>0.056777</td>\n",
       "      <td>1.0</td>\n",
       "      <td>0.0</td>\n",
       "      <td>0.0</td>\n",
       "      <td>0.0</td>\n",
       "    </tr>\n",
       "    <tr>\n",
       "      <th>30</th>\n",
       "      <td>0.333333</td>\n",
       "      <td>0.632353</td>\n",
       "      <td>0.2</td>\n",
       "      <td>0.666667</td>\n",
       "      <td>0.0</td>\n",
       "      <td>0.666667</td>\n",
       "      <td>0.0</td>\n",
       "      <td>0.0</td>\n",
       "      <td>0.063984</td>\n",
       "      <td>0.020147</td>\n",
       "      <td>1.0</td>\n",
       "      <td>0.0</td>\n",
       "      <td>0.0</td>\n",
       "      <td>0.0</td>\n",
       "    </tr>\n",
       "  </tbody>\n",
       "</table>\n",
       "</div>"
      ],
      "text/plain": [
       "        Sexo    Comuna  Agenda  TipoProfesional  Especialidad  TipoAtencion  \\\n",
       "0   0.333333  1.000000     0.2         0.666667           0.0      0.333333   \n",
       "26  1.000000  0.632353     0.2         0.666667           0.0      0.333333   \n",
       "27  0.333333  0.477941     0.2         0.666667           0.0      0.333333   \n",
       "29  0.333333  0.632353     0.6         0.666667           1.0      0.000000   \n",
       "30  0.333333  0.632353     0.2         0.666667           0.0      0.666667   \n",
       "\n",
       "    Distancia  Reservas Anteriores      Edad  DiasReservaCita  Dia Cita  \\\n",
       "0         0.0                  0.0  0.080523         0.025641       1.0   \n",
       "26        0.0                  0.0  0.005817         0.078755       1.0   \n",
       "27        0.0                  0.0  0.069859         0.078755       1.0   \n",
       "29        0.0                  0.0  0.040570         0.056777       1.0   \n",
       "30        0.0                  0.0  0.063984         0.020147       1.0   \n",
       "\n",
       "    Mes Cita  Cancelaciones Anteriores  Atenciones Anteriores  \n",
       "0        0.0                       0.0                    0.0  \n",
       "26       0.0                       0.0                    0.0  \n",
       "27       0.0                       0.0                    0.0  \n",
       "29       0.0                       0.0                    0.0  \n",
       "30       0.0                       0.0                    0.0  "
      ]
     },
     "execution_count": 144,
     "metadata": {},
     "output_type": "execute_result"
    }
   ],
   "source": [
    "##Estandarización test set\n",
    "df_test_normalized = (datos_num_test_unlabeled-datos_num_test_unlabeled.min())/(datos_num_test_unlabeled.max()-datos_num_test_unlabeled.min())\n",
    "df_test_normalized.head()"
   ]
  },
  {
   "cell_type": "markdown",
   "metadata": {},
   "source": [
    "### Comparación SVM con penalización uniforme vs SVM con penalización diferenciada según etiquetas."
   ]
  },
  {
   "cell_type": "markdown",
   "metadata": {},
   "source": [
    "Se realiza una predicción con respecto al modelo SVM anteriormente indicado, donde usamos la constante $C=1$ y no definimos Kernels debido a que los tiempos de ejecución al utilizar uno son demasiado largos. El resultado otorga una presición del 62%, pero las distribuciones de pocentaje por etiqueta son: 78% de acierto para $'Atendido'$, 16% de acierto para $'Cancelado'$ y un 24% de acierto para $'No Atendido'$. Lo cual refleja que, aquellos casos que son interesantes de predecir no están logrando un buen rendimiento. El tiempo que demora en correr fue de 2.7 minutos."
   ]
  },
  {
   "cell_type": "code",
   "execution_count": 154,
   "metadata": {},
   "outputs": [],
   "source": [
    "## SVM C=1.\n",
    "import time\n",
    "start1 = time.time()\n",
    "from sklearn.svm import SVC\n",
    "clf = SVC(C = 1 , gamma='auto')\n",
    "clf.fit(df_training_normalized, y)\n",
    "end1 = time.time()"
   ]
  },
  {
   "cell_type": "code",
   "execution_count": 155,
   "metadata": {},
   "outputs": [
    {
     "name": "stdout",
     "output_type": "stream",
     "text": [
      "0.6202346214278119\n",
      "el timepo de ejecución fue de 2.7476664741834003  minutos.\n"
     ]
    }
   ],
   "source": [
    "start2 = time.time()\n",
    "print(clf.score(df_test_normalized, datos_num_test_labels))\n",
    "end2 = time.time()\n",
    "print(\"el timepo de ejecución fue de\", (end1+end2-start1-start2)/60 , \" minutos.\")"
   ]
  },
  {
   "cell_type": "code",
   "execution_count": 156,
   "metadata": {},
   "outputs": [],
   "source": [
    "def print_confusion_matrix(confusion_matrix, class_names, figsize = (7,5), fontsize=10):\n",
    "    \"\"\"Prints a confusion matrix, as returned by sklearn.metrics.confusion_matrix, as a heatmap.\n",
    "    \n",
    "    Arguments\n",
    "    ---------\n",
    "    confusion_matrix: numpy.ndarray\n",
    "        The numpy.ndarray object returned from a call to sklearn.metrics.confusion_matrix. \n",
    "        Similarly constructed ndarrays can also be used.\n",
    "    class_names: list\n",
    "        An ordered list of class names, in the order they index the given confusion matrix.\n",
    "    figsize: tuple\n",
    "        A 2-long tuple, the first value determining the horizontal size of the ouputted figure,\n",
    "        the second determining the vertical size. Defaults to (10,7).\n",
    "    fontsize: int\n",
    "        Font size for axes labels. Defaults to 14.\n",
    "        \n",
    "    Returns\n",
    "    -------\n",
    "    matplotlib.figure.Figure\n",
    "        The resulting confusion matrix figure\n",
    "    \"\"\"\n",
    "    df_cm = pd.DataFrame(\n",
    "        confusion_matrix, index=class_names, columns=class_names, \n",
    "    )\n",
    "    fig = plt.figure(figsize=figsize)\n",
    "    try:\n",
    "        heatmap = sns.heatmap(df_cm, annot=True, fmt=\"d\",cmap=\"YlGnBu\")\n",
    "    except ValueError:\n",
    "        raise ValueError(\"Confusion matrix values must be integers.\")\n",
    "    heatmap.yaxis.set_ticklabels(heatmap.yaxis.get_ticklabels(), rotation=0, ha='right', fontsize=fontsize)\n",
    "    heatmap.xaxis.set_ticklabels(heatmap.xaxis.get_ticklabels(), rotation=45, ha='right', fontsize=fontsize)\n",
    "    plt.ylabel('True label')\n",
    "    plt.xlabel('Predicted label')\n",
    "    return fig"
   ]
  },
  {
   "cell_type": "code",
   "execution_count": 157,
   "metadata": {},
   "outputs": [
    {
     "data": {
      "image/png": "[encoded data removed]",
      "text/plain": [
       "<Figure size 504x360 with 2 Axes>"
      ]
     },
     "metadata": {
      "needs_background": "light"
     },
     "output_type": "display_data"
    }
   ],
   "source": [
    "from sklearn.model_selection import cross_val_score\n",
    "from sklearn.metrics import confusion_matrix\n",
    "\n",
    "y_pred_normalized = clf.predict(df_test_normalized)\n",
    "class_numbers_normalized = datos_num_test_labels.unique()\n",
    "class_numbers_normalized.sort()\n",
    "class_names_normalized = le.inverse_transform(class_numbers)\n",
    "cm_normalized = confusion_matrix(datos_num_test_labels,y_pred_normalized)\n",
    "cm_fig_normalized = print_confusion_matrix(cm_normalized,class_names_normalized)"
   ]
  },
  {
   "cell_type": "markdown",
   "metadata": {},
   "source": [
    "Intentamos ahora con una variante de la SVM con penalización en la holguras que, a diferencia de la anterior definida, esta consta de tres constantes $C_1>0,C_2>0,C_4>0$, las cuales van asociadas a aquellos datos con etiquetas iguales al subíndice de la constante. Esto debido a que, al variar la constante $C$ uniformemente en las etiquetas, no se lograban cambios significativos y, o continuaba la predicción concentrada en $'Atendido'$ (como se describió anteriormente), o lograba muy poca precisión en el conjunto de datos en general.\n",
    "\n",
    "El rendimiento de esta forma de realizar la clasificación eligiendoo $C_1=1, C_2=1.05, C_3=1.07$ fue de una precisión del 50.8%, y por etiquetas resulta un 57% para $'Atendido'$, un 39% para $'Cancelado'$ y un 29% para $'No Atendido'$. Además, demora un tiempo de 3.2 minutos."
   ]
  },
  {
   "cell_type": "markdown",
   "metadata": {},
   "source": [
    "%%latex\n",
    "\n",
    "\n",
    "\\begin{equation*}\n",
    "\\begin{aligned}\n",
    "& \\underset{w,b,\\xi}{\\text{minimize}}\n",
    "& & \\frac{1}{2}w^{T}w + C_1\\sum_{i:y_i=1}^{n}\\xi_{i}+ C_2\\sum_{i:y_i=2}^{n}\\xi_{i}+ C_4\\sum_{i:y_i=4}^{n}\\xi_{i} \\\\\n",
    "& \\text{subject to}\n",
    "& & y_{i}(w^{T}x_{i}+b) \\geq 1-\\xi_{i} , \\; i = 1, \\ldots, n.\\\\\n",
    "& & & \\xi_{i} \\geq 0\n",
    "\\end{aligned}\n",
    "\\end{equation*}"
   ]
  },
  {
   "cell_type": "code",
   "execution_count": 173,
   "metadata": {},
   "outputs": [],
   "source": [
    "##weighted SVM: C_1 = 1, C_2 = 1.05, C_3 = 1.07.\n",
    "start3 = time.time()\n",
    "from sklearn.svm import SVC\n",
    "clf = SVC(gamma='auto', class_weight= {1: 1, 2: 1.05, 4: 1.07})\n",
    "clf.fit(df_training_normalized, y)\n",
    "end3 = time.time()"
   ]
  },
  {
   "cell_type": "code",
   "execution_count": 174,
   "metadata": {},
   "outputs": [
    {
     "name": "stdout",
     "output_type": "stream",
     "text": [
      "0.5084291233002942\n",
      "el timepo de ejecución fue de 3.265847086906433  minutos.\n"
     ]
    }
   ],
   "source": [
    "start4 = time.time()\n",
    "print(clf.score(df_test_normalized, datos_num_test_labels))\n",
    "end4 = time.time()\n",
    "print(\"el timepo de ejecución fue de\", (end3+end4-start3-start4)/60 , \" minutos.\")"
   ]
  },
  {
   "cell_type": "code",
   "execution_count": 175,
   "metadata": {},
   "outputs": [
    {
     "data": {
      "image/png": "[encoded data removed]",
      "text/plain": [
       "<Figure size 504x360 with 2 Axes>"
      ]
     },
     "metadata": {
      "needs_background": "light"
     },
     "output_type": "display_data"
    }
   ],
   "source": [
    "y_pred_normalized = clf.predict(df_test_normalized)\n",
    "class_numbers_normalized = datos_num_test_labels.unique()\n",
    "class_numbers_normalized.sort()\n",
    "class_names_normalized = le.inverse_transform(class_numbers)\n",
    "cm_normalized = confusion_matrix(datos_num_test_labels,y_pred_normalized)\n",
    "cm_fig_normalized = print_confusion_matrix(cm_normalized,class_names_normalized)"
   ]
  },
  {
   "cell_type": "code",
   "execution_count": null,
   "metadata": {},
   "outputs": [],
   "source": []
  },
  {
   "cell_type": "code",
   "execution_count": null,
   "metadata": {},
   "outputs": [],
   "source": []
  }
 ],
 "metadata": {
  "kernelspec": {
   "display_name": "Python 3",
   "language": "python",
   "name": "python3"
  },
  "language_info": {
   "codemirror_mode": {
    "name": "ipython",
    "version": 3
   },
   "file_extension": ".py",
   "mimetype": "text/x-python",
   "name": "python",
   "nbconvert_exporter": "python",
   "pygments_lexer": "ipython3",
   "version": "3.7.1"
  }
 },
 "nbformat": 4,
 "nbformat_minor": 2
}
