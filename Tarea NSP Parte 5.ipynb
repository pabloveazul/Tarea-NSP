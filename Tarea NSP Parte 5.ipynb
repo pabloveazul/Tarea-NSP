{
 "cells": [
  {
   "cell_type": "markdown",
   "metadata": {},
   "source": [
    "# Parte 5"
   ]
  },
  {
   "cell_type": "markdown",
   "metadata": {},
   "source": [
    "En esta sección se compararán los resultados obtenidos previamente\n"
   ]
  },
  {
   "cell_type": "code",
   "execution_count": 3,
   "metadata": {},
   "outputs": [],
   "source": [
    "import pandas as pd\n",
    "import seaborn as sns\n",
    "import numpy as np\n",
    "import matplotlib.pyplot as plt\n",
    "%matplotlib inline "
   ]
  },
  {
   "cell_type": "markdown",
   "metadata": {},
   "source": [
    "Para la prueba de la regresión logística usamos una muestra balanceada de 90946 datos, los cuales fueron separados equitativamente entre conjunto de entrenamiento y validación.Los resultados fueron los siguientes:"
   ]
  },
  {
   "cell_type": "code",
   "execution_count": 17,
   "metadata": {},
   "outputs": [
    {
     "data": {
      "text/html": [
       "<div>\n",
       "<style scoped>\n",
       "    .dataframe tbody tr th:only-of-type {\n",
       "        vertical-align: middle;\n",
       "    }\n",
       "\n",
       "    .dataframe tbody tr th {\n",
       "        vertical-align: top;\n",
       "    }\n",
       "\n",
       "    .dataframe thead th {\n",
       "        text-align: right;\n",
       "    }\n",
       "</style>\n",
       "<table border=\"1\" class=\"dataframe\">\n",
       "  <thead>\n",
       "    <tr style=\"text-align: right;\">\n",
       "      <th></th>\n",
       "      <th>Modelo</th>\n",
       "      <th>Precisión (%)</th>\n",
       "      <th>Aciertos Cita Realizada</th>\n",
       "      <th>Aciertos Cita No Realizada (%)</th>\n",
       "      <th>Tiempo de Computación (min)</th>\n",
       "    </tr>\n",
       "  </thead>\n",
       "  <tbody>\n",
       "    <tr>\n",
       "      <th>0</th>\n",
       "      <td>Regresion Logistica Variables Nuevas</td>\n",
       "      <td>59</td>\n",
       "      <td>54</td>\n",
       "      <td>63</td>\n",
       "      <td>0.63</td>\n",
       "    </tr>\n",
       "    <tr>\n",
       "      <th>1</th>\n",
       "      <td>Regresion Logistica Variables Orginales</td>\n",
       "      <td>54</td>\n",
       "      <td>54</td>\n",
       "      <td>45</td>\n",
       "      <td>0.85</td>\n",
       "    </tr>\n",
       "  </tbody>\n",
       "</table>\n",
       "</div>"
      ],
      "text/plain": [
       "                                    Modelo Precisión (%)  \\\n",
       "0     Regresion Logistica Variables Nuevas            59   \n",
       "1  Regresion Logistica Variables Orginales            54   \n",
       "\n",
       "  Aciertos Cita Realizada Aciertos Cita No Realizada (%)  \\\n",
       "0                      54                             63   \n",
       "1                      54                             45   \n",
       "\n",
       "  Tiempo de Computación (min)  \n",
       "0                        0.63  \n",
       "1                        0.85  "
      ]
     },
     "execution_count": 17,
     "metadata": {},
     "output_type": "execute_result"
    }
   ],
   "source": [
    "pd.DataFrame(np.array([['Regresion Logistica Variables Nuevas', 59, 54,63,0.63],['Regresion Logistica Variables Orginales', 54, 54,45,0.85]]),\n",
    "                  columns=['Modelo', 'Precisión (%)', 'Aciertos Cita Realizada','Aciertos Cita No Realizada (%)', 'Tiempo de Computación (min)'])"
   ]
  },
  {
   "cell_type": "markdown",
   "metadata": {},
   "source": [
    "Para la prueba de los SVM usamos una muestra de 38215 datos para el entrenamiento, los cuales un 30% corresponde a la clase \"Cancelado\", un 29% \"No Atendido\" y un 41% a la clase \"Atendido\" .Los resultados fueron los siguientes:"
   ]
  },
  {
   "cell_type": "code",
   "execution_count": 14,
   "metadata": {},
   "outputs": [
    {
     "data": {
      "text/html": [
       "<div>\n",
       "<style scoped>\n",
       "    .dataframe tbody tr th:only-of-type {\n",
       "        vertical-align: middle;\n",
       "    }\n",
       "\n",
       "    .dataframe tbody tr th {\n",
       "        vertical-align: top;\n",
       "    }\n",
       "\n",
       "    .dataframe thead th {\n",
       "        text-align: right;\n",
       "    }\n",
       "</style>\n",
       "<table border=\"1\" class=\"dataframe\">\n",
       "  <thead>\n",
       "    <tr style=\"text-align: right;\">\n",
       "      <th></th>\n",
       "      <th>Modelo</th>\n",
       "      <th>Precisión (%)</th>\n",
       "      <th>Aciertos Atendido (%)</th>\n",
       "      <th>Aciertos Cancelado (%)</th>\n",
       "      <th>Aciertos No Atendido (%)</th>\n",
       "      <th>Tiempo de Computación (min)</th>\n",
       "    </tr>\n",
       "  </thead>\n",
       "  <tbody>\n",
       "    <tr>\n",
       "      <th>0</th>\n",
       "      <td>SVM Penalización Uniforme</td>\n",
       "      <td>62</td>\n",
       "      <td>78</td>\n",
       "      <td>16</td>\n",
       "      <td>24</td>\n",
       "      <td>2.7</td>\n",
       "    </tr>\n",
       "    <tr>\n",
       "      <th>1</th>\n",
       "      <td>SVM Penalización Diferenciada</td>\n",
       "      <td>50.8</td>\n",
       "      <td>57</td>\n",
       "      <td>39</td>\n",
       "      <td>29</td>\n",
       "      <td>3.2</td>\n",
       "    </tr>\n",
       "  </tbody>\n",
       "</table>\n",
       "</div>"
      ],
      "text/plain": [
       "                          Modelo Precisión (%) Aciertos Atendido (%)  \\\n",
       "0      SVM Penalización Uniforme            62                    78   \n",
       "1  SVM Penalización Diferenciada          50.8                    57   \n",
       "\n",
       "  Aciertos Cancelado (%) Aciertos No Atendido (%) Tiempo de Computación (min)  \n",
       "0                     16                       24                         2.7  \n",
       "1                     39                       29                         3.2  "
      ]
     },
     "execution_count": 14,
     "metadata": {},
     "output_type": "execute_result"
    }
   ],
   "source": [
    "pd.DataFrame(np.array([['SVM Penalización Uniforme',62 ,78,16,24,2.7],['SVM Penalización Diferenciada',50.8,57,39,29,3.2],]),\n",
    "                  columns=['Modelo', 'Precisión (%)', 'Aciertos Atendido (%)','Aciertos Cancelado (%)','Aciertos No Atendido (%)', 'Tiempo de Computación (min)'])"
   ]
  },
  {
   "cell_type": "markdown",
   "metadata": {},
   "source": [
    "Recordemos que el modelo de Regresión Logística se aplica sobre un problema de clasificación binaria, y los SVM sobre una clasificiación con 3 etiquetas distintas. Considerando lo anterior, para el caso binario un clasificador aleatorio tendría en promedio un 50% de precisión y en útlimo caso un 33% de precisión. De esta manera se ve que el mejor resultado en términos de precisión fue obtenido por el SVM de penalización uniforme. Sin embargo, debemos considerar también que para efectos prácticos los aciertos y los errores de clasificación pueden tener Costos distintos según la clase. Si consideramos por ejemplo, que es más interesante saber cuando un paciente no asistirá finalmente a la cita, el SVM de Penalización Diferenciada y la Regresión Logística poseen un grado de precisión mayor para estas clases, por lo cual serán predictores más adecuados. \n",
    "\n",
    "Con respecto al tiempo de computación, se aprecia que claramente la regresión tiene un tiempo de cómputo reducido en comparación a los SVM.\n",
    "\n",
    "Con respecto a la creación de las nuevas variables, en el caso de la regresión logística estas generaron un aumento de la precisión considerable en el caso de las Citas No Realizadas."
   ]
  },
  {
   "cell_type": "code",
   "execution_count": null,
   "metadata": {},
   "outputs": [],
   "source": []
  }
 ],
 "metadata": {
  "kernelspec": {
   "display_name": "Python 3",
   "language": "python",
   "name": "python3"
  },
  "language_info": {
   "codemirror_mode": {
    "name": "ipython",
    "version": 3
   },
   "file_extension": ".py",
   "mimetype": "text/x-python",
   "name": "python",
   "nbconvert_exporter": "python",
   "pygments_lexer": "ipython3",
   "version": "3.7.3"
  }
 },
 "nbformat": 4,
 "nbformat_minor": 2
}
